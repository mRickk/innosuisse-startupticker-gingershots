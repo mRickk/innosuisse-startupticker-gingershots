{
 "cells": [
  {
   "cell_type": "code",
   "execution_count": 14,
   "id": "8c7d1e8c",
   "metadata": {},
   "outputs": [],
   "source": [
    "import pandas as pd\n",
    "import sqlite3"
   ]
  },
  {
   "cell_type": "code",
   "execution_count": 15,
   "id": "c5d0edd7",
   "metadata": {},
   "outputs": [
    {
     "data": {
      "text/plain": [
       "3902"
      ]
     },
     "execution_count": 15,
     "metadata": {},
     "output_type": "execute_result"
    }
   ],
   "source": [
    "excel_file = './data/Data-startupticker.xlsx'  \n",
    "sheet1 = 'Companies'  \n",
    "sheet2 = 'Deals'\n",
    "\n",
    "# Read Excel sheets\n",
    "df1 = pd.read_excel(excel_file, sheet_name=sheet1)\n",
    "df2 = pd.read_excel(excel_file, sheet_name=sheet2)\n",
    "\n",
    "# Df preprocessing\n",
    "df1 = df1.drop_duplicates(subset=\"Title\", keep=\"first\")\n",
    "\n",
    "# Connect to DB\n",
    "conn = sqlite3.connect('my_database.db')\n",
    "conn.execute(\"PRAGMA foreign_keys = ON;\")\n",
    "cursor = conn.cursor()\n",
    "\n",
    "# Drop tables if they exist\n",
    "cursor.execute(\"DROP TABLE IF EXISTS table2\")\n",
    "cursor.execute(\"DROP TABLE IF EXISTS table1\")\n",
    "cursor.execute(\"DROP TABLE IF EXISTS deal\")\n",
    "cursor.execute(\"DROP TABLE IF EXISTS company\")\n",
    "\n",
    "\n",
    "# Create table1\n",
    "cursor.execute('''\n",
    "    CREATE TABLE company (\n",
    "        Code TEXT,\n",
    "        Title TEXT PRIMARY KEY,\n",
    "        Industry TEXT,\n",
    "        Vertical TEXT,\n",
    "        Canton TEXT,\n",
    "        \"Spin-offs\" TEXT,\n",
    "        City TEXT,\n",
    "        Year INTEGER,\n",
    "        Highlights TEXT,\n",
    "        \"Gender CEO\" TEXT,\n",
    "        OOB BOOLEAN,\n",
    "        Funded BOOLEAN,\n",
    "        Comment TEXT\n",
    "    )\n",
    "''')\n",
    "\n",
    "# Create table2 with foreign key to table1.Title\n",
    "cursor.execute('''\n",
    "    CREATE TABLE deal (\n",
    "        Id TEXT PRIMARY KEY,\n",
    "        Investors TEXT,\n",
    "        Amount REAL,\n",
    "        Valuation REAL,\n",
    "        Comment TEXT,\n",
    "        URL TEXT,\n",
    "        Confidential BOOLEAN,\n",
    "        \"Amount confidential\" BOOLEAN,\n",
    "        \"Date of the funding round\" TEXT,\n",
    "        Type TEXT,\n",
    "        Phase TEXT,\n",
    "        Canton TEXT,\n",
    "        Company TEXT REFERENCES company(Title),\n",
    "        \"Gender CEO\" TEXT\n",
    "    )\n",
    "''')\n",
    "\n",
    "# Insert data from DataFrames\n",
    "df1.to_sql('company', conn, if_exists='append', index=False)\n",
    "df2.to_sql('deal', conn, if_exists='append', index=False)\n"
   ]
  },
  {
   "cell_type": "code",
   "execution_count": 16,
   "id": "0a3266d1",
   "metadata": {},
   "outputs": [
    {
     "name": "stdout",
     "output_type": "stream",
     "text": [
      "             Industry  number_of_companies\n",
      "0                None                 1858\n",
      "1           Deep Tech                   17\n",
      "2                 ICT                 1344\n",
      "3       ICT (fintech)                  353\n",
      "4              Impact                    6\n",
      "5   Interdisciplinary                   23\n",
      "6       Life-Sciences                    2\n",
      "7             biotech                  311\n",
      "8           cleantech                  335\n",
      "9   consumer products                  262\n",
      "10      healthcare IT                  191\n",
      "11            medtech                  273\n",
      "12       micro / nano                  235\n"
     ]
    }
   ],
   "source": [
    "# QUERY TESTING\n",
    "#print(pd.read_sql(\"SELECT * FROM table1\", conn).head(1))\n",
    "#print(pd.read_sql(\"SELECT * FROM table2\", conn).head(1))\n",
    "print( pd.read_sql(\"SELECT Industry, COUNT(DISTINCT Title) AS number_of_companies FROM company GROUP BY Industry;\", conn)) # VALID QUERY\n",
    "#print( pd.read_sql(\"SELECT industry, COUNT(DISTINCT company) AS number_of_companies FROM company GROUP BY industry;\", conn)) # TXT2SQL QUERY\n",
    "\n",
    "conn.close()"
   ]
  }
 ],
 "metadata": {
  "kernelspec": {
   "display_name": "venv",
   "language": "python",
   "name": "python3"
  },
  "language_info": {
   "codemirror_mode": {
    "name": "ipython",
    "version": 3
   },
   "file_extension": ".py",
   "mimetype": "text/x-python",
   "name": "python",
   "nbconvert_exporter": "python",
   "pygments_lexer": "ipython3",
   "version": "3.11.5"
  }
 },
 "nbformat": 4,
 "nbformat_minor": 5
}
