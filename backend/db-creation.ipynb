{
 "cells": [
  {
   "cell_type": "code",
   "execution_count": 1,
   "id": "8c7d1e8c",
   "metadata": {},
   "outputs": [],
   "source": [
    "import pandas as pd\n",
    "import sqlite3"
   ]
  },
  {
   "cell_type": "code",
   "execution_count": 2,
   "id": "c5d0edd7",
   "metadata": {},
   "outputs": [
    {
     "data": {
      "text/plain": [
       "3902"
      ]
     },
     "execution_count": 2,
     "metadata": {},
     "output_type": "execute_result"
    }
   ],
   "source": [
    "excel_file = 'Data-startupticker.xlsx'  \n",
    "sheet1 = 'Companies'  \n",
    "sheet2 = 'Deals'\n",
    "\n",
    "# Read Excel sheets\n",
    "df1 = pd.read_excel(excel_file, sheet_name=sheet1)\n",
    "df2 = pd.read_excel(excel_file, sheet_name=sheet2)\n",
    "\n",
    "\n",
    "# Df preprocessing\n",
    "df1 = df1.drop_duplicates(subset=\"Title\", keep=\"first\")\n",
    "\n",
    "\n",
    "# Connect to DB\n",
    "conn = sqlite3.connect('my_database.db')\n",
    "conn.execute(\"PRAGMA foreign_keys = ON;\")\n",
    "cursor = conn.cursor()\n",
    "\n",
    "# Drop tables if they exist\n",
    "cursor.execute(\"DROP TABLE IF EXISTS table2\")\n",
    "cursor.execute(\"DROP TABLE IF EXISTS table1\")\n",
    "\n",
    "# Create table1\n",
    "cursor.execute('''\n",
    "    CREATE TABLE table1 (\n",
    "        Code TEXT PRIMARY KEY,\n",
    "        Title TEXT UNIQUE,\n",
    "        Industry TEXT,\n",
    "        Vertical TEXT,\n",
    "        Canton TEXT,\n",
    "        \"Spin-offs\" TEXT,\n",
    "        City TEXT,\n",
    "        Year INTEGER,\n",
    "        Highlights TEXT,\n",
    "        \"Gender CEO\" TEXT,\n",
    "        OOB BOOLEAN,\n",
    "        Funded BOOLEAN,\n",
    "        Comment TEXT\n",
    "    )\n",
    "''')\n",
    "\n",
    "# Create table2 with foreign key to table1.Title\n",
    "cursor.execute('''\n",
    "    CREATE TABLE table2 (\n",
    "        Id TEXT PRIMARY KEY,\n",
    "        Investors TEXT,\n",
    "        Amount REAL,\n",
    "        Valuation REAL,\n",
    "        Comment TEXT,\n",
    "        URL TEXT,\n",
    "        Confidential BOOLEAN,\n",
    "        \"Amount confidential\" BOOLEAN,\n",
    "        \"Date of the funding round\" TEXT,\n",
    "        Type TEXT,\n",
    "        Phase TEXT,\n",
    "        Canton TEXT,\n",
    "        Company TEXT,\n",
    "        \"Gender CEO\" TEXT,\n",
    "        FOREIGN KEY (Company) REFERENCES table1(Title)\n",
    "    )\n",
    "''')\n",
    "\n",
    "# Insert data from DataFrames\n",
    "df1.to_sql('table1', conn, if_exists='append', index=False)\n",
    "df2.to_sql('table2', conn, if_exists='append', index=False)\n"
   ]
  },
  {
   "cell_type": "code",
   "execution_count": 3,
   "id": "0a3266d1",
   "metadata": {},
   "outputs": [
    {
     "name": "stdout",
     "output_type": "stream",
     "text": [
      "              Code     Title Industry Vertical Canton Spin-offs  City    Year  \\\n",
      "0  CHE-384.775.108  Noury AG     None     None   Bern      None  None  2021.0   \n",
      "\n",
      "  Highlights Gender CEO  OOB  Funded Comment  \n",
      "0       None       None    0       0    None  \n",
      "      Id Investors  Amount  Valuation Comment  \\\n",
      "0  S4126   Elastic     NaN        NaN    None   \n",
      "\n",
      "                                                 URL  Confidential  \\\n",
      "0  https://www.elastic.co/de/about/press/elastic-...             0   \n",
      "\n",
      "   Amount confidential Date of the funding round  Type Phase Canton  \\\n",
      "0                    0       2021-10-14 00:00:00  EXIT  None     ZH   \n",
      "\n",
      "             Company Gender CEO  \n",
      "0  optimyze.cloud AG       Male  \n"
     ]
    }
   ],
   "source": [
    "# Confirm\n",
    "print(pd.read_sql(\"SELECT * FROM table1\", conn).head(1))\n",
    "print(pd.read_sql(\"SELECT * FROM table2\", conn).head(1))"
   ]
  },
  {
   "cell_type": "code",
   "execution_count": 4,
   "id": "2dc06410",
   "metadata": {},
   "outputs": [],
   "source": [
    "conn.close()"
   ]
  }
 ],
 "metadata": {
  "kernelspec": {
   "display_name": "venv",
   "language": "python",
   "name": "python3"
  },
  "language_info": {
   "codemirror_mode": {
    "name": "ipython",
    "version": 3
   },
   "file_extension": ".py",
   "mimetype": "text/x-python",
   "name": "python",
   "nbconvert_exporter": "python",
   "pygments_lexer": "ipython3",
   "version": "3.11.5"
  }
 },
 "nbformat": 4,
 "nbformat_minor": 5
}
